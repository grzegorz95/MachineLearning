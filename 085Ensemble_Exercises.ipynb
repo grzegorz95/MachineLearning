{
 "cells": [
  {
   "cell_type": "markdown",
   "metadata": {},
   "source": [
    "# Ensemble methods. Exercises\n",
    "\n",
    "\n",
    "In this section we have only one exercise:\n",
    "\n",
    "1. Find the best three classifier in the stacking method using the classifiers from scikit-learn package, such as:\n",
    "\n",
    "\n",
    "* Linear regression,\n",
    "* Nearest Neighbors,\n",
    "* Linear SVM,\n",
    "* Decision Tree,\n",
    "* Naive Bayes,\n",
    "* QDA."
   ]
  },
  {
   "cell_type": "code",
   "execution_count": 1,
   "metadata": {},
   "outputs": [],
   "source": [
    "%store -r data_set\n",
    "%store -r labels\n",
    "%store -r test_data_set\n",
    "%store -r test_labels\n",
    "%store -r unique_labels"
   ]
  },
  {
   "cell_type": "markdown",
   "metadata": {},
   "source": [
    "## Exercise 1: Find the best three classifier in the stacking method"
   ]
  },
  {
   "cell_type": "code",
   "execution_count": 2,
   "metadata": {},
   "outputs": [],
   "source": [
    "import numpy as np\n",
    "from sklearn.metrics import accuracy_score\n",
    "\n",
    "from sklearn.linear_model import LinearRegression\n",
    "from sklearn.neighbors import KNeighborsClassifier\n",
    "from sklearn.svm import SVC\n",
    "from sklearn.tree import DecisionTreeClassifier\n",
    "from sklearn.naive_bayes import GaussianNB\n",
    "from sklearn.discriminant_analysis import QuadraticDiscriminantAnalysis\n",
    "\n",
    "import re"
   ]
  },
  {
   "cell_type": "code",
   "execution_count": 3,
   "metadata": {},
   "outputs": [],
   "source": [
    "def build_classifiers():\n",
    "    \n",
    "    regression = LinearRegression()\n",
    "    \n",
    "    neighbors = KNeighborsClassifier()\n",
    "    \n",
    "    svc = SVC(gamma='auto')\n",
    "    \n",
    "    tree = DecisionTreeClassifier()\n",
    "    \n",
    "    bayes = GaussianNB()\n",
    "    \n",
    "    qda = QuadraticDiscriminantAnalysis()\n",
    "   \n",
    "    return regression, neighbors, svc, tree, bayes, qda"
   ]
  },
  {
   "cell_type": "code",
   "execution_count": 4,
   "metadata": {},
   "outputs": [],
   "source": [
    "def build_stacked_classifier(classifiers,stacked_classifier):\n",
    "    \n",
    "    output = []\n",
    "    for classifier in classifiers:\n",
    "        classifier.fit(data_set,labels)\n",
    "        output.append(classifier.predict(data_set))\n",
    "    output = np.array(output).reshape((130,len(classifiers)))\n",
    "    \n",
    "    # stacked classifier part:\n",
    "    stacked_classifier.fit(output, labels.reshape((130,)))\n",
    "    test_set = []\n",
    "    for classifier in classifiers:\n",
    "        test_set.append(classifier.predict(test_data_set))\n",
    "    test_set = np.array(test_set).reshape((len(test_set[0]),len(classifiers)))\n",
    "    predicted=np.array([int(round(i)) for i in stacked_classifier.predict(test_set)])\n",
    "    \n",
    "    return predicted"
   ]
  },
  {
   "cell_type": "code",
   "execution_count": 5,
   "metadata": {},
   "outputs": [],
   "source": [
    "def classifier_name(name):\n",
    "    if name=='LinearRegression':\n",
    "        return 'Regression'\n",
    "    if name=='SVC':\n",
    "        return 'SVC'\n",
    "    if name=='DecisionTreeClassifier':\n",
    "        return 'Tree'\n",
    "    if name=='GaussianNB':\n",
    "        return 'Bayes'\n",
    "    if name=='KNeighborsClassifier':\n",
    "        return 'KNeighbours'\n",
    "    if name=='QuadraticDiscriminantAnalysis':\n",
    "        return 'QDA'"
   ]
  },
  {
   "cell_type": "code",
   "execution_count": 6,
   "metadata": {},
   "outputs": [],
   "source": [
    "def classifier_names(classifiers_three,stacked_classifier):\n",
    "    three = [classifier_name(re.split('\\(',str(classifier))[0]) for classifier in classifiers_three]\n",
    "    stacked = classifier_name(re.split('\\(',str(stacked_classifier))[0])\n",
    "    return str(three)+' '+stacked"
   ]
  },
  {
   "cell_type": "code",
   "execution_count": 10,
   "metadata": {},
   "outputs": [
    {
     "name": "stdout",
     "output_type": "stream",
     "text": [
      "Accuracy\t[Classifiers] Stacked classifier\n",
      "\n",
      "0.0\t['KNeighbours', 'Bayes', 'QDA'] Regression\n",
      "0.0\t['KNeighbours', 'SVC', 'Bayes'] Regression\n",
      "0.0\t['KNeighbours', 'SVC', 'Bayes'] Tree\n",
      "0.0\t['KNeighbours', 'SVC', 'QDA'] Regression\n",
      "0.0\t['KNeighbours', 'SVC', 'Tree'] Regression\n",
      "0.0\t['KNeighbours', 'Tree', 'Bayes'] QDA\n",
      "0.0\t['KNeighbours', 'Tree', 'Bayes'] Regression\n",
      "0.0\t['KNeighbours', 'Tree', 'Bayes'] SVC\n",
      "0.0\t['KNeighbours', 'Tree', 'QDA'] Regression\n",
      "0.0\t['Regression', 'Bayes', 'QDA'] KNeighbours\n",
      "0.0\t['Regression', 'KNeighbours', 'Bayes'] SVC\n",
      "0.0\t['Regression', 'KNeighbours', 'Tree'] SVC\n",
      "0.0\t['Regression', 'SVC', 'Bayes'] KNeighbours\n",
      "0.0\t['Regression', 'SVC', 'QDA'] KNeighbours\n",
      "0.0\t['Regression', 'SVC', 'Tree'] KNeighbours\n",
      "0.0\t['Regression', 'Tree', 'Bayes'] KNeighbours\n",
      "0.0\t['Regression', 'Tree', 'Bayes'] SVC\n",
      "0.0\t['Regression', 'Tree', 'QDA'] KNeighbours\n",
      "0.0\t['SVC', 'Bayes', 'QDA'] KNeighbours\n",
      "0.0\t['SVC', 'Bayes', 'QDA'] Regression\n",
      "0.0\t['SVC', 'Tree', 'Bayes'] KNeighbours\n",
      "0.0\t['SVC', 'Tree', 'Bayes'] Regression\n",
      "0.0\t['SVC', 'Tree', 'QDA'] KNeighbours\n",
      "0.0\t['SVC', 'Tree', 'QDA'] Regression\n",
      "0.0\t['Tree', 'Bayes', 'QDA'] KNeighbours\n",
      "0.0\t['Tree', 'Bayes', 'QDA'] Regression\n",
      "0.1\t['Regression', 'SVC', 'Bayes'] Tree\n",
      "0.1\t['SVC', 'Tree', 'Bayes'] QDA\n",
      "0.35\t['Regression', 'Tree', 'Bayes'] QDA\n",
      "0.5\t['Regression', 'Bayes', 'QDA'] SVC\n",
      "0.55\t['Regression', 'SVC', 'Tree'] QDA\n",
      "0.6\t['Regression', 'Bayes', 'QDA'] Tree\n",
      "0.6\t['Regression', 'KNeighbours', 'QDA'] SVC\n",
      "0.6\t['Regression', 'Tree', 'QDA'] SVC\n",
      "0.65\t['Regression', 'KNeighbours', 'SVC'] Tree\n",
      "0.65\t['Regression', 'KNeighbours', 'Tree'] QDA\n",
      "0.65\t['Regression', 'SVC', 'QDA'] Tree\n",
      "0.7\t['Regression', 'KNeighbours', 'Bayes'] Tree\n",
      "0.75\t['Regression', 'KNeighbours', 'QDA'] Tree\n",
      "0.8\t['KNeighbours', 'Tree', 'QDA'] SVC\n",
      "0.8\t['SVC', 'Bayes', 'QDA'] Tree\n",
      "0.8\t['Tree', 'Bayes', 'QDA'] SVC\n",
      "0.85\t['KNeighbours', 'Bayes', 'QDA'] SVC\n",
      "0.85\t['KNeighbours', 'Bayes', 'QDA'] Tree\n",
      "0.85\t['KNeighbours', 'SVC', 'QDA'] Tree\n",
      "0.85\t['Regression', 'KNeighbours', 'SVC'] QDA\n",
      "0.85\t['Regression', 'SVC', 'Bayes'] QDA\n",
      "0.9\t['KNeighbours', 'SVC', 'Bayes'] QDA\n",
      "0.9\t['KNeighbours', 'SVC', 'Tree'] QDA\n",
      "0.95\t['Regression', 'KNeighbours', 'Bayes'] QDA\n",
      "1.0\t['KNeighbours', 'SVC', 'QDA'] Bayes\n",
      "1.0\t['KNeighbours', 'SVC', 'Tree'] Bayes\n",
      "1.0\t['KNeighbours', 'Tree', 'QDA'] Bayes\n",
      "1.0\t['Regression', 'KNeighbours', 'QDA'] Bayes\n",
      "1.0\t['Regression', 'KNeighbours', 'SVC'] Bayes\n",
      "1.0\t['Regression', 'KNeighbours', 'Tree'] Bayes\n",
      "1.0\t['Regression', 'SVC', 'QDA'] Bayes\n",
      "1.0\t['Regression', 'SVC', 'Tree'] Bayes\n",
      "1.0\t['Regression', 'Tree', 'QDA'] Bayes\n",
      "1.0\t['SVC', 'Tree', 'QDA'] Bayes\n"
     ]
    },
    {
     "name": "stderr",
     "output_type": "stream",
     "text": [
      "/home/grzegorz/anaconda3/envs/datascience/lib/python3.6/site-packages/sklearn/discriminant_analysis.py:692: UserWarning: Variables are collinear\n",
      "  warnings.warn(\"Variables are collinear\")\n",
      "/home/grzegorz/anaconda3/envs/datascience/lib/python3.6/site-packages/sklearn/discriminant_analysis.py:692: UserWarning: Variables are collinear\n",
      "  warnings.warn(\"Variables are collinear\")\n",
      "/home/grzegorz/anaconda3/envs/datascience/lib/python3.6/site-packages/sklearn/discriminant_analysis.py:692: UserWarning: Variables are collinear\n",
      "  warnings.warn(\"Variables are collinear\")\n",
      "/home/grzegorz/anaconda3/envs/datascience/lib/python3.6/site-packages/sklearn/discriminant_analysis.py:692: UserWarning: Variables are collinear\n",
      "  warnings.warn(\"Variables are collinear\")\n",
      "/home/grzegorz/anaconda3/envs/datascience/lib/python3.6/site-packages/sklearn/discriminant_analysis.py:692: UserWarning: Variables are collinear\n",
      "  warnings.warn(\"Variables are collinear\")\n",
      "/home/grzegorz/anaconda3/envs/datascience/lib/python3.6/site-packages/sklearn/discriminant_analysis.py:692: UserWarning: Variables are collinear\n",
      "  warnings.warn(\"Variables are collinear\")\n"
     ]
    }
   ],
   "source": [
    "import itertools\n",
    "\n",
    "classifiers = build_classifiers()\n",
    "\n",
    "results=[]\n",
    "\n",
    "for subset in itertools.combinations(classifiers,4):\n",
    "    for stacked_classifier in subset:\n",
    "        classifiers_three=list(subset)\n",
    "        classifiers_three.remove(stacked_classifier)\n",
    "        \n",
    "        predicted=build_stacked_classifier(classifiers_three,stacked_classifier)\n",
    "        accuracy=accuracy_score(test_labels,predicted)\n",
    "        names=classifier_names(classifiers_three,stacked_classifier)\n",
    "        results.append([accuracy,names])\n",
    "        \n",
    "results=sorted(results)\n",
    "\n",
    "print('Accuracy\\t[Classifiers] Stacked classifier\\n')\n",
    "for result in results:\n",
    "    print(str(result[0])+'\\t'+result[1])"
   ]
  }
 ],
 "metadata": {
  "kernelspec": {
   "display_name": "Python 3",
   "language": "python",
   "name": "python3"
  },
  "language_info": {
   "codemirror_mode": {
    "name": "ipython",
    "version": 3
   },
   "file_extension": ".py",
   "mimetype": "text/x-python",
   "name": "python",
   "nbconvert_exporter": "python",
   "pygments_lexer": "ipython3",
   "version": "3.6.8"
  }
 },
 "nbformat": 4,
 "nbformat_minor": 2
}
